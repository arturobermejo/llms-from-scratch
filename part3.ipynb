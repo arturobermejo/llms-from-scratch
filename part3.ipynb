{
 "cells": [
  {
   "cell_type": "code",
   "execution_count": 1,
   "id": "5aa1e01a-e924-4611-b320-731baaec88b7",
   "metadata": {},
   "outputs": [],
   "source": [
    "import random\n",
    "from collections import OrderedDict\n",
    "import numpy as np"
   ]
  },
  {
   "cell_type": "code",
   "execution_count": 2,
   "id": "b3b191c0",
   "metadata": {},
   "outputs": [],
   "source": [
    "# Nuestro diccionario con todas los tokenes que soporta nuestor modelo\n",
    "dictionary = OrderedDict([\n",
    "    (\"azul\", np.array([-0.2, 0.9])),\n",
    "    (\"cielo\", np.array([0.8, -0.1])),\n",
    "    (\"frío\", np.array([-0.4, 0.7])),\n",
    "    (\"el\", np.array([0.3, -0.6])),\n",
    "    (\"es\", np.array([0.1, -0.1]))\n",
    "])"
   ]
  },
  {
   "cell_type": "code",
   "execution_count": 33,
   "id": "b874da65",
   "metadata": {},
   "outputs": [],
   "source": [
    "# Definimos los pesos para la primera función\n",
    "f1w = np.array([1, 0.5, 1.5, 1, 0.5, 1.5])\n",
    "\n",
    "def f1(x):\n",
    "  return sum(x * f1w)"
   ]
  },
  {
   "cell_type": "code",
   "execution_count": 19,
   "id": "5ac977ea",
   "metadata": {},
   "outputs": [],
   "source": [
    "# Definimos los pesos para la segunda función\n",
    "f2w = np.array([2.5, 0.7, 2.0, 0.2, 0.5])\n",
    "\n",
    "def f2(x):\n",
    "  return x*f2w"
   ]
  },
  {
   "cell_type": "code",
   "execution_count": 20,
   "id": "391a227d",
   "metadata": {},
   "outputs": [],
   "source": [
    "# Función para normalizar\n",
    "def softmax(x):\n",
    "    exp_x = np.exp(x - np.max(x))\n",
    "    return exp_x / np.sum(exp_x)"
   ]
  },
  {
   "cell_type": "code",
   "execution_count": 35,
   "id": "8c34cd51",
   "metadata": {},
   "outputs": [
    {
     "name": "stdout",
     "output_type": "stream",
     "text": [
      "out_f1: 1.0\n",
      "logits: [2.5 0.7 2.  0.2 0.5]\n",
      "normalized logits: [0.49815094 0.0823438  0.30214382 0.04994404 0.0674174 ]\n"
     ]
    }
   ],
   "source": [
    "# Obtenemos la probabilidad para cada token de nuestro diccionario\n",
    "x_input = np.array(\n",
    "    [dictionary[\"el\"],\n",
    "     dictionary[\"cielo\"],\n",
    "     dictionary[\"es\"]]\n",
    ")\n",
    "\n",
    "out_f1 = f1(x_input.flatten())\n",
    "print(\"out_f1:\", out_f1)\n",
    "\n",
    "logits = f2(out_f1)\n",
    "print(\"logits:\", logits)\n",
    "\n",
    "probs = softmax(logits)\n",
    "print(\"normalized logits:\", probs)"
   ]
  },
  {
   "cell_type": "code",
   "execution_count": 22,
   "id": "697daa71",
   "metadata": {},
   "outputs": [],
   "source": [
    "# Definimos un metodo de muestreo\n",
    "def sampling(probs):\n",
    "  return random.choices(range(len(dictionary)), weights=probs, k=1)[0]"
   ]
  },
  {
   "cell_type": "code",
   "execution_count": 23,
   "id": "9601d237",
   "metadata": {},
   "outputs": [
    {
     "name": "stdout",
     "output_type": "stream",
     "text": [
      "0\n"
     ]
    },
    {
     "data": {
      "text/plain": [
       "'azul'"
      ]
     },
     "execution_count": 23,
     "metadata": {},
     "output_type": "execute_result"
    }
   ],
   "source": [
    "# De acuerdo a las probabilidades obtenemo un valor\n",
    "idx = sampling(probs)\n",
    "print(idx)\n",
    "\n",
    "# Buscamos a que palabra corresponde (notese que esta vez buscamos por el indice en lugar del valor)\n",
    "token, _ = list(dictionary.items())[idx]\n",
    "token"
   ]
  },
  {
   "cell_type": "code",
   "execution_count": 24,
   "id": "a08398a5",
   "metadata": {},
   "outputs": [
    {
     "name": "stdout",
     "output_type": "stream",
     "text": [
      "0: el cielo es frío\n",
      "1: el cielo es azul\n",
      "2: el cielo es frío\n",
      "3: el cielo es frío\n",
      "4: el cielo es cielo\n",
      "5: el cielo es azul\n",
      "6: el cielo es azul\n",
      "7: el cielo es azul\n",
      "8: el cielo es el\n",
      "9: el cielo es azul\n",
      "10: el cielo es azul\n",
      "11: el cielo es azul\n",
      "12: el cielo es azul\n",
      "13: el cielo es frío\n",
      "14: el cielo es cielo\n",
      "15: el cielo es frío\n",
      "16: el cielo es azul\n",
      "17: el cielo es azul\n",
      "18: el cielo es azul\n",
      "19: el cielo es azul\n"
     ]
    }
   ],
   "source": [
    "for i in range(20):\n",
    "    idx = sampling(probs)\n",
    "    token, _ = list(dictionary.items())[idx]\n",
    "    print(\"{0}: el cielo es {1}\".format(i, token))"
   ]
  }
 ],
 "metadata": {
  "kernelspec": {
   "display_name": "env",
   "language": "python",
   "name": "python3"
  },
  "language_info": {
   "codemirror_mode": {
    "name": "ipython",
    "version": 3
   },
   "file_extension": ".py",
   "mimetype": "text/x-python",
   "name": "python",
   "nbconvert_exporter": "python",
   "pygments_lexer": "ipython3",
   "version": "3.13.2"
  }
 },
 "nbformat": 4,
 "nbformat_minor": 5
}
