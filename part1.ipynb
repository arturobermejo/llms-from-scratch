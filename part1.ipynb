{
 "cells": [
  {
   "cell_type": "code",
   "execution_count": 19,
   "id": "562c12e4-340f-4b4a-83e3-9f41c52507a8",
   "metadata": {},
   "outputs": [],
   "source": [
    "from collections import OrderedDict"
   ]
  },
  {
   "cell_type": "code",
   "execution_count": 20,
   "id": "2af7df71",
   "metadata": {},
   "outputs": [],
   "source": [
    "# Nuestra lista de palabras\n",
    "words = OrderedDict([\n",
    "    (\"azul\", 227),\n",
    "    (\"cielo\", 350),\n",
    "    (\"frío\", 402),\n",
    "    (\"el\", 578),\n",
    "    (\"es\", 698)\n",
    "])"
   ]
  },
  {
   "cell_type": "code",
   "execution_count": 46,
   "id": "b6f05149",
   "metadata": {},
   "outputs": [],
   "source": [
    "# Inicializamos los pesos\n",
    "w1, w2, w3 = 1, 1.5, 0.5"
   ]
  },
  {
   "cell_type": "code",
   "execution_count": 47,
   "id": "43883fee",
   "metadata": {},
   "outputs": [],
   "source": [
    "def f(x1, x2, x3):\n",
    "  return x1*w1 - x2*w2 + x3*w3"
   ]
  },
  {
   "cell_type": "code",
   "execution_count": 48,
   "id": "d789ecfd",
   "metadata": {},
   "outputs": [
    {
     "name": "stdout",
     "output_type": "stream",
     "text": [
      "402.0\n",
      "frío\n"
     ]
    }
   ],
   "source": [
    "# Ejecutamos nuestro modelo para generar la siguiente palabra o token\n",
    "y = f(words[\"el\"], words[\"cielo\"], words[\"es\"])\n",
    "print(y)\n",
    "\n",
    "# Buscamos el token con el valor de y\n",
    "for token, value in words.items():\n",
    "    if value == y:\n",
    "        print(token)\n",
    "        break"
   ]
  },
  {
   "cell_type": "code",
   "execution_count": 49,
   "id": "ab67ac8a",
   "metadata": {},
   "outputs": [
    {
     "name": "stdout",
     "output_type": "stream",
     "text": [
      "227.0\n",
      "azul\n"
     ]
    }
   ],
   "source": [
    "# Modificamos el valor de w2 para ver que sucede\n",
    "w2 = 2.0\n",
    "\n",
    "y = f(words[\"el\"], words[\"cielo\"], words[\"es\"])\n",
    "print(y)\n",
    "\n",
    "# Buscamos el token con el valor de y\n",
    "for token, value in words.items():\n",
    "    if value == y:\n",
    "        print(token)\n",
    "        break"
   ]
  }
 ],
 "metadata": {
  "kernelspec": {
   "display_name": "env",
   "language": "python",
   "name": "python3"
  },
  "language_info": {
   "codemirror_mode": {
    "name": "ipython",
    "version": 3
   },
   "file_extension": ".py",
   "mimetype": "text/x-python",
   "name": "python",
   "nbconvert_exporter": "python",
   "pygments_lexer": "ipython3",
   "version": "3.13.2"
  }
 },
 "nbformat": 4,
 "nbformat_minor": 5
}
