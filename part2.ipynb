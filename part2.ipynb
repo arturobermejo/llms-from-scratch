{
 "cells": [
  {
   "cell_type": "code",
   "execution_count": 1,
   "id": "5aa1e01a-e924-4611-b320-731baaec88b7",
   "metadata": {},
   "outputs": [],
   "source": [
    "import random\n",
    "from collections import OrderedDict"
   ]
  },
  {
   "cell_type": "code",
   "execution_count": 2,
   "id": "b3b191c0",
   "metadata": {},
   "outputs": [],
   "source": [
    "# Nuestro diccionario con todas los tokenes que soporta nuestor modelo\n",
    "dictionary = OrderedDict([\n",
    "    (\"azul\", 227),\n",
    "    (\"cielo\", 350),\n",
    "    (\"frío\", 402),\n",
    "    (\"el\", 578),\n",
    "    (\"es\", 698)\n",
    "])"
   ]
  },
  {
   "cell_type": "code",
   "execution_count": 3,
   "id": "b874da65",
   "metadata": {},
   "outputs": [],
   "source": [
    "# Definimos los pesos para la primera función\n",
    "f1w1, f1w2, f1w3 = 1, 0.5, 1.5\n",
    "\n",
    "def f1(x1, x2, x3):\n",
    "  return x1*f1w1 + x2*f1w2 + x3*f1w3"
   ]
  },
  {
   "cell_type": "code",
   "execution_count": 4,
   "id": "5ac977ea",
   "metadata": {},
   "outputs": [],
   "source": [
    "# Definimos los pesos para la segunda función\n",
    "f2w1, f2w2, f2w3, f2w4, f2w5 = 2.5, 0.7, 2.0, 0.2, 0.5\n",
    "\n",
    "def f2(x):\n",
    "  return [x*f2w1, x*f2w2, x*f2w3, x*f2w4, x*f2w5]"
   ]
  },
  {
   "cell_type": "code",
   "execution_count": 5,
   "id": "391a227d",
   "metadata": {},
   "outputs": [],
   "source": [
    "# Función para normalizar\n",
    "def norm(scores):\n",
    "  s = []\n",
    "  total = sum(scores)\n",
    "\n",
    "  for score in scores:\n",
    "    s.append(score/total)\n",
    "\n",
    "  return s"
   ]
  },
  {
   "cell_type": "code",
   "execution_count": 6,
   "id": "8c34cd51",
   "metadata": {},
   "outputs": [
    {
     "data": {
      "text/plain": [
       "[0.423728813559322,\n",
       " 0.11864406779661017,\n",
       " 0.3389830508474576,\n",
       " 0.03389830508474576,\n",
       " 0.0847457627118644]"
      ]
     },
     "execution_count": 6,
     "metadata": {},
     "output_type": "execute_result"
    }
   ],
   "source": [
    "# Obtenemos la probabilidad para cada token de nuestro diccionario\n",
    "probs = norm(f2(f1(dictionary[\"el\"], dictionary[\"cielo\"], dictionary[\"es\"])))\n",
    "probs"
   ]
  },
  {
   "cell_type": "code",
   "execution_count": 9,
   "id": "697daa71",
   "metadata": {},
   "outputs": [],
   "source": [
    "# Definimos un metodo de muestreo\n",
    "def sampling(probs):\n",
    "  return random.choices(range(len(dictionary)), weights=probs, k=1)[0]"
   ]
  },
  {
   "cell_type": "code",
   "execution_count": 10,
   "id": "9601d237",
   "metadata": {},
   "outputs": [
    {
     "name": "stdout",
     "output_type": "stream",
     "text": [
      "0\n"
     ]
    },
    {
     "data": {
      "text/plain": [
       "'azul'"
      ]
     },
     "execution_count": 10,
     "metadata": {},
     "output_type": "execute_result"
    }
   ],
   "source": [
    "# De acuerdo a las probabilidades obtenemo un valor\n",
    "idx = sampling(probs)\n",
    "print(idx)\n",
    "\n",
    "# Buscamos a que palabra corresponde (notese que esta vez buscamos por el indice en lugar del valor)\n",
    "token, _ = list(dictionary.items())[idx]\n",
    "token"
   ]
  },
  {
   "cell_type": "code",
   "execution_count": 22,
   "id": "a08398a5",
   "metadata": {},
   "outputs": [
    {
     "name": "stdout",
     "output_type": "stream",
     "text": [
      "0: el cielo es azul\n",
      "1: el cielo es frío\n",
      "2: el cielo es cielo\n",
      "3: el cielo es frío\n",
      "4: el cielo es frío\n",
      "5: el cielo es azul\n",
      "6: el cielo es azul\n",
      "7: el cielo es frío\n",
      "8: el cielo es azul\n",
      "9: el cielo es el\n",
      "10: el cielo es azul\n",
      "11: el cielo es frío\n",
      "12: el cielo es es\n",
      "13: el cielo es azul\n",
      "14: el cielo es frío\n",
      "15: el cielo es azul\n",
      "16: el cielo es frío\n",
      "17: el cielo es frío\n",
      "18: el cielo es es\n",
      "19: el cielo es azul\n"
     ]
    }
   ],
   "source": [
    "for i in range(20):\n",
    "    idx = sampling(probs)\n",
    "    token, _ = list(dictionary.items())[idx]\n",
    "    print(\"{0}: el cielo es {1}\".format(i, token))"
   ]
  }
 ],
 "metadata": {
  "kernelspec": {
   "display_name": "env",
   "language": "python",
   "name": "python3"
  },
  "language_info": {
   "codemirror_mode": {
    "name": "ipython",
    "version": 3
   },
   "file_extension": ".py",
   "mimetype": "text/x-python",
   "name": "python",
   "nbconvert_exporter": "python",
   "pygments_lexer": "ipython3",
   "version": "3.13.2"
  }
 },
 "nbformat": 4,
 "nbformat_minor": 5
}
